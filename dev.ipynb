{
 "cells": [
  {
   "cell_type": "code",
   "execution_count": null,
   "metadata": {},
   "outputs": [],
   "source": [
    "ORG = \"NVIDIA\"\n",
    "REPO = \"spark-rapids\"\n",
    "BOTS = [\"dependabot[bot]\", \"GPUtester\", \"github-actions[bot]\"]\n",
    "import os  # noqa: E402\n",
    "\n",
    "try:\n",
    "    OPENAI_API_KEY = os.environ.get(\"OPENAI_API_KEY\")\n",
    "except KeyError:\n",
    "    OPENAI_API_KEY = \"\""
   ]
  },
  {
   "cell_type": "code",
   "execution_count": null,
   "metadata": {},
   "outputs": [],
   "source": [
    "repo = REPO"
   ]
  },
  {
   "cell_type": "code",
   "execution_count": null,
   "metadata": {},
   "outputs": [],
   "source": [
    "    import pandas as pd\n",
    "    from langchain_experimental.agents import create_pandas_dataframe_agent\n",
    "    from langchain_openai import OpenAI as OpenAI_langchain\n",
    "    from langchain_openai import OpenAIEmbeddings\n",
    "    from pymilvus import MilvusClient"
   ]
  },
  {
   "cell_type": "code",
   "execution_count": null,
   "metadata": {},
   "outputs": [],
   "source": [
    "    df_issues = pd.read_parquet(f\"{repo}_issue_summary.parquet\")\n",
    "    # drop the issue_text column as context is too large for agent\n",
    "    # we will use the vector database instead\n",
    "    df_issues = df_issues.drop(\n",
    "        columns=[\n",
    "            \"issue_text\",\n",
    "            \"LLM_title_subject\",\n",
    "            \"label_names\",\n",
    "            \"issue_text_tokens\",\n",
    "            \"issue_created_at\",\n",
    "            \"issue_updated_at\",\n",
    "            \"issue_reactions.+1\",\n",
    "            \"issue_reactions.-1\",\n",
    "            \"issue_reactions.laugh\",\n",
    "            \"issue_reactions.hooray\",\n",
    "            \"issue_reactions.confused\",\n",
    "            \"issue_reactions.heart\",\n",
    "            \"issue_reactions.rocket\",\n",
    "            \"issue_reactions.eyes\",\n",
    "            \"issue_user.login_location_lat\",\n",
    "            \"issue_user.login_location_lon\",\n",
    "        ]\n",
    "    )"
   ]
  },
  {
   "cell_type": "code",
   "execution_count": null,
   "metadata": {},
   "outputs": [],
   "source": [
    "    df_issues = df_issues.rename(\n",
    "        columns={\n",
    "            \"number\": f\"{repo}_issue_number\",\n",
    "            \"title\": f\"{repo}_issue_title\",\n",
    "            \"author_association\": f\"association_to_{repo}\",\n",
    "            \"issue_reactions.total_count\": \"number_of_reactions_on_issue\",\n",
    "            \"n_comments\": \"number_of_comments\",\n",
    "            \"issue_user.login_email\": \"email\",\n",
    "            \"issue_user.login_name\": \"name\",\n",
    "            \"issue_user.login_company\": \"company\",\n",
    "            \"issue_user.login_name_company\": \"name_company\",\n",
    "            \"issue_user.login_location\": \"location\",\n",
    "            \"issue_user.login_followers\": \"github_followers\",\n",
    "            \"comment_reactions.total_count\": \"number_of_reactions_on_comments\",\n",
    "        }\n",
    "    )\n",
    "    print(df_issues[\"company\"].value_counts())"
   ]
  },
  {
   "cell_type": "code",
   "execution_count": null,
   "metadata": {},
   "outputs": [],
   "source": [
    "print(df_issues[df_issues[\"company\"] == \"bytedance\"])"
   ]
  },
  {
   "cell_type": "code",
   "execution_count": null,
   "metadata": {},
   "outputs": [],
   "source": [
    "repo = \"cudf\""
   ]
  },
  {
   "cell_type": "code",
   "execution_count": null,
   "metadata": {},
   "outputs": [],
   "source": [
    "repo.replace('-', '_')"
   ]
  },
  {
   "cell_type": "code",
   "execution_count": null,
   "metadata": {},
   "outputs": [],
   "source": [
    "client = MilvusClient(f\"./milvus_{repo.replace('-', '_')}.db\")"
   ]
  },
  {
   "cell_type": "code",
   "execution_count": null,
   "metadata": {},
   "outputs": [],
   "source": [
    "    import pickle\n",
    "    import pandas as pd\n",
    "    from langchain_openai import OpenAIEmbeddings\n",
    "    from pymilvus import MilvusClient"
   ]
  },
  {
   "cell_type": "code",
   "execution_count": null,
   "metadata": {},
   "outputs": [],
   "source": [
    "repo = \"cudf\""
   ]
  },
  {
   "cell_type": "code",
   "execution_count": null,
   "metadata": {},
   "outputs": [],
   "source": [
    "client = MilvusClient(f\"./milvus_{repo.replace('-', '_')}.db\")"
   ]
  },
  {
   "cell_type": "code",
   "execution_count": null,
   "metadata": {},
   "outputs": [],
   "source": [
    "try:\n",
    "    OPENAI_API_KEY = os.environ.get(\"OPENAI_API_KEY\")\n",
    "except KeyError:\n",
    "    OPENAI_API_KEY = \"\""
   ]
  },
  {
   "cell_type": "code",
   "execution_count": null,
   "metadata": {},
   "outputs": [],
   "source": [
    "    df = pd.read_parquet(f\"{repo}_issue_summary.parquet\")\n",
    "    embeddings_model = OpenAIEmbeddings(api_key=OPENAI_API_KEY)\n",
    "    embeddings = embeddings_model.embed_documents(\n",
    "        df[\"issue_text\"].fillna(\"\").values\n",
    "    )  # ndocs x 1536\n",
    "    with open(f\"{repo}_embeddings.pkl\", \"wb\") as f:\n",
    "        pickle.dump(embeddings, f)\n",
    "    data = [\n",
    "        {\n",
    "            \"id\": row[\"number\"],\n",
    "            \"vector\": embeddings[i],\n",
    "            \"text\": row[\"issue_text\"],\n",
    "            \"subject\": row[\"LLM_title_subject\"],\n",
    "        }\n",
    "        for i, row in df.iterrows()\n",
    "    ]"
   ]
  },
  {
   "cell_type": "code",
   "execution_count": null,
   "metadata": {},
   "outputs": [],
   "source": [
    "    client.create_collection(\n",
    "        collection_name=f\"{repo.replace('-', '_')}_issue_text\", dimension=1536\n",
    "    )"
   ]
  },
  {
   "cell_type": "code",
   "execution_count": null,
   "metadata": {},
   "outputs": [],
   "source": [
    "_ = client.insert(collection_name=f\"{repo.replace('-', '_')}_issue_text\", data=data)"
   ]
  },
  {
   "cell_type": "code",
   "execution_count": null,
   "metadata": {},
   "outputs": [],
   "source": []
  }
 ],
 "metadata": {
  "kernelspec": {
   "display_name": "Python 3 (ipykernel)",
   "language": "python",
   "name": "python3"
  },
  "language_info": {
   "codemirror_mode": {
    "name": "ipython",
    "version": 3
   },
   "file_extension": ".py",
   "mimetype": "text/x-python",
   "name": "python",
   "nbconvert_exporter": "python",
   "pygments_lexer": "ipython3",
   "version": "3.10.14"
  }
 },
 "nbformat": 4,
 "nbformat_minor": 4
}
